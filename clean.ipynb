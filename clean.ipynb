{
 "cells": [
  {
   "cell_type": "code",
   "execution_count": 1,
   "metadata": {},
   "outputs": [],
   "source": [
    "import pandas as pd\n",
    "import numpy as np\n",
    "import re"
   ]
  },
  {
   "cell_type": "code",
   "execution_count": null,
   "metadata": {},
   "outputs": [],
   "source": [
    "# clean the tables\n",
    "# change the column names to lowercase and replace spaces with underscores\n",
    "# replace player_(\\d+) with player\n",
    "# remove empty columns\n",
    "# remove empty rows\n",
    "# replace - with NaN\n",
    "# remove dollar signs and commas from columns that should be numeric\n",
    "# convert columns to numeric\n",
    "# remove extra underscores from column names\n",
    "# IMPORTANT: some of these steps are dependent on the previous cleaning steps (h2_to_str)\n",
    "\n",
    "def is_string_dtype(dtype):\n",
    "    return pd.api.types.is_string_dtype(dtype)\n",
    "\n",
    "# Function to find columns with dollar sign values\n",
    "def columns_with_dollar_or_percent(df):\n",
    "    # List to store columns with dollar or percent signs\n",
    "    cols_with_symbols = []\n",
    "    \n",
    "    # Iterate over columns\n",
    "    for col in df.columns:\n",
    "        # Check if any value in the column contains a dollar sign or percent sign\n",
    "        if df[col].astype(str).str.contains(r'\\$|%').any():\n",
    "            cols_with_symbols.append(col)\n",
    "    \n",
    "    return cols_with_symbols\n",
    "\n",
    "def clean_table(df):\n",
    "\n",
    "    # remove columns with names that contain 'Unnamed'\n",
    "    df = df.loc[:, ~df.columns.str.contains('Unnamed')]\n",
    "    \n",
    "    # substitute player_(\\d+) or Player_(\\d+) with player\n",
    "    df.columns = [re.sub(r'Player \\(\\d+\\)|player \\(\\d+\\)', 'player', col) for col in df.columns]\n",
    "    df.columns = [col.lower().replace(' ', '_') for col in df.columns]\n",
    "    df.columns = [re.sub(r'_+', '_', col) for col in df.columns]\n",
    "    df = df.dropna(axis=1, how='all')\n",
    "    df = df.dropna(axis=0, how='all')\n",
    "    df = df.replace('-', '')\n",
    "\n",
    "    if ('player' not in df.columns):\n",
    "        df.insert(0, 'player', np.nan)\n",
    "\n",
    "    # Example: 'Carter Michael Carter' -> 'Michael Carter'\n",
    "    reformatted_column = []\n",
    "    for player in df['player']:\n",
    "        if type(player) == str:\n",
    "            reformatted_column.append(re.sub(r'^(.*?)\\s+(.*?)\\s+(\\1)', r'\\2 \\1', player))\n",
    "        else:\n",
    "            reformatted_column.append(player)\n",
    "    df['player'] = reformatted_column\n",
    "\n",
    "    # check that column is string before using str.contains\n",
    "    # get columns with dollar signs and commas\n",
    "    cols = columns_with_dollar_or_percent(df)\n",
    "    for col in cols:\n",
    "        df[col] = df[col].str.replace('$', '')\n",
    "        df[col] = df[col].str.replace('%', '')\n",
    "        df[col] = df[col].str.replace(',', '')\n",
    "        df[col] = df[col].str.replace('(', '-')\n",
    "        df[col] = df[col].str.replace(')', '')\n",
    "        df[col] = pd.to_numeric(df[col])\n",
    "\n",
    "    return df"
   ]
  }
 ],
 "metadata": {
  "kernelspec": {
   "display_name": ".venv",
   "language": "python",
   "name": "python3"
  },
  "language_info": {
   "codemirror_mode": {
    "name": "ipython",
    "version": 3
   },
   "file_extension": ".py",
   "mimetype": "text/x-python",
   "name": "python",
   "nbconvert_exporter": "python",
   "pygments_lexer": "ipython3",
   "version": "3.12.4"
  }
 },
 "nbformat": 4,
 "nbformat_minor": 2
}
