{
 "cells": [
  {
   "cell_type": "code",
   "execution_count": null,
   "metadata": {},
   "outputs": [],
   "source": [
    "import pandas as pd\n",
    "import numpy as np\n",
    "import os"
   ]
  },
  {
   "cell_type": "code",
   "execution_count": null,
   "metadata": {},
   "outputs": [],
   "source": [
    "team_urls = pd.read_csv(os.getcwd() + '/data/cap_space_all_teams.csv')\n",
    "team_codes = pd.read_csv(os.getcwd() + '/data/team_codes.csv')\n",
    "\n",
    "# combine all tables that aren't 'cap_totals' into one table for each team and year\n",
    "for team_name in team_codes.keys():\n",
    "    team_code = team_codes[team_name]\n",
    "    team_path = os.getcwd() + '/data/teams/' + team_name\n",
    "    years = [year for year in os.listdir(team_path) if os.path.isdir(team_path + '/' + year)]\n",
    "    for year in years:\n",
    "        files = os.listdir(team_path + '/' + year)\n",
    "        files = [file for file in files if file.endswith('_cleaned.csv') and 'cap_totals' not in file]\n",
    "        # print(f'{team_name}: {files}')\n",
    "        all_players = pd.DataFrame()\n",
    "        for file in files:\n",
    "            df = pd.read_csv(team_path + '/' + year + '/' + file)\n",
    "            # check that none of df columns contain 'Cap Maximum Summary'\n",
    "            if df.columns.str.contains('Cap Maximum Summary').any():\n",
    "                print(f'{file} contains Cap Maximum Summary')\n",
    "                df = df.loc[:, ~df.str.contains('Cap Maximum Summary')]\n",
    "                df = df.dropna(axis=1, how='all')\n",
    "            all_players = pd.concat([all_players, df])\n",
    "        all_players.to_csv(team_path + '/' + year + '/' + team_code + '_' + year + '_all_players_cleaned.csv', index=False)"
   ]
  },
  {
   "cell_type": "code",
   "execution_count": null,
   "metadata": {},
   "outputs": [],
   "source": [
    "# combine every all_players table into one table for each team with column for year\n",
    "for team_name in team_codes.keys():\n",
    "    team_code = team_codes[team_name]\n",
    "    team_path = os.getcwd() + '/data/teams/' + team_name\n",
    "    years = [year for year in os.listdir(team_path) if os.path.isdir(team_path + '/' + year)]\n",
    "    all_players = pd.DataFrame()\n",
    "    for year in years:\n",
    "        df = pd.read_csv(team_path + '/' + year + '/' + team_code + '_' + year + '_all_players_cleaned.csv')\n",
    "        df['team_name'] = team_name\n",
    "        df['year'] = year\n",
    "        df = df[['team_name', 'year'] + [col for col in df.columns if col not in ['team_name', 'year']]]\n",
    "        all_players = pd.concat([all_players, df])\n",
    "    all_players.to_csv(team_path + '/' + team_code + '_all_players_cleaned.csv', index=False)"
   ]
  },
  {
   "cell_type": "code",
   "execution_count": null,
   "metadata": {},
   "outputs": [],
   "source": [
    "# combine all of all_players_cleaned tables into one table\n",
    "all_players = pd.DataFrame()\n",
    "for team_name in team_codes.keys():\n",
    "    team_code = team_codes[team_name]\n",
    "    team_path = os.getcwd() + '/data/teams/' + team_name\n",
    "    files = os.listdir(team_path)\n",
    "    files = [file for file in files if file.endswith('_all_players_cleaned.csv')]\n",
    "    if len(files) == 0:\n",
    "        print(f'{team_name} has no all_players_cleaned.csv')\n",
    "        continue\n",
    "    elif len(files) > 1:\n",
    "        print(f'{team_name} has more than one all_players_cleaned.csv')\n",
    "        continue\n",
    "    df = pd.read_csv(team_path + '/' + files[0])\n",
    "    all_players = pd.concat([all_players, df])\n",
    "\n",
    "all_players.to_csv(os.getcwd() + '/data/' + 'all_players_cleaned.csv', index=False)"
   ]
  }
 ],
 "metadata": {
  "language_info": {
   "name": "python"
  }
 },
 "nbformat": 4,
 "nbformat_minor": 2
}
